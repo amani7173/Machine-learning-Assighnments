{
 "cells": [
  {
   "cell_type": "code",
   "execution_count": 6,
   "id": "f1b2ea60-28cf-4121-a772-57cc70ca6b17",
   "metadata": {},
   "outputs": [],
   "source": [
    "%%capture\n",
    "# STARTER CODE - RUN THIS CELL - DO NOT CHANGE\n",
    "!pip install category_encoders\n",
    "import seaborn as sns\n",
    "import pandas as pd\n",
    "import numpy as np\n",
    "import matplotlib.pyplot as plt\n",
    "import category_encoders as ce\n",
    "from sklearn.linear_model import LinearRegression, LogisticRegression\n",
    "from sklearn.preprocessing import StandardScaler\n",
    "from sklearn.model_selection import train_test_split\n",
    "from sklearn.pipeline import make_pipeline\n",
    "from sklearn.linear_model import LogisticRegression\n",
    "from sklearn.metrics import plot_confusion_matrix\n",
    "from sklearn.model_selection import cross_val_score\n",
    "from sklearn.metrics import classification_report\n",
    "from sklearn.metrics import accuracy_score\n",
    "from sklearn.metrics import mean_squared_error, mean_absolute_error, accuracy_score, accuracy_score, recall_score, precision_score\n",
    "df_r = sns.load_dataset(\"tips\").dropna()\n",
    "df_c = sns.load_dataset(\"titanic\").dropna()\n",
    "model_r = LinearRegression()\n",
    "model_c = LogisticRegression()\n",
    "x_train_r, x_test_r, y_train_r, y_test_r = train_test_split(df_r.drop(\"total_bill\", axis=1), df_r[\"total_bill\"])\n",
    "x_train_c, x_test_c, y_train_c, y_test_c = train_test_split(df_c.drop([\"survived\", \"alive\", \"adult_male\"], axis=1), df_c[\"survived\"])\n",
    "pipe_r = make_pipeline(ce.OrdinalEncoder(), StandardScaler(), LinearRegression()).fit(x_train_r, y_train_r)\n",
    "pipe_c = make_pipeline(ce.OrdinalEncoder(), StandardScaler(), LogisticRegression()).fit(x_train_c, y_train_c)\n",
    "y_pred_r = pipe_r.predict(x_test_r)\n",
    "y_pred_c = pipe_c.predict(x_test_c)"
   ]
  },
  {
   "cell_type": "markdown",
   "id": "8aec7bff-fd9b-43fd-a32c-e575ba9ee5c1",
   "metadata": {},
   "source": [
    "### Separate your data set into training and testing. (80/20 split)"
   ]
  },
  {
   "cell_type": "code",
   "execution_count": 7,
   "id": "f39fb630-f86c-4e13-a6b4-c455649162b0",
   "metadata": {},
   "outputs": [],
   "source": [
    "df = pd.read_csv(\"seattle_weather_1948-2017.csv\").dropna()\n",
    "df[\"RAIN\"] = df[\"RAIN\"].astype(bool)"
   ]
  },
  {
   "cell_type": "code",
   "execution_count": 8,
   "id": "c44a61f1-3a9f-4f5a-a6f6-200015f6e3f3",
   "metadata": {},
   "outputs": [],
   "source": [
    "training, test = train_test_split(\n",
    "    df,\n",
    "    train_size = 0.8,\n",
    "    test_size = 0.2,\n",
    "    random_state = 60\n",
    ")"
   ]
  },
  {
   "cell_type": "code",
   "execution_count": 9,
   "id": "0e9e6019-224c-4209-848d-29a8579093f9",
   "metadata": {},
   "outputs": [
    {
     "data": {
      "text/plain": [
       "False    0.574567\n",
       "True     0.425433\n",
       "Name: RAIN, dtype: float64"
      ]
     },
     "execution_count": 9,
     "metadata": {},
     "output_type": "execute_result"
    }
   ],
   "source": [
    "training[\"RAIN\"].value_counts(normalize=True)"
   ]
  },
  {
   "cell_type": "code",
   "execution_count": 10,
   "id": "b3f587e7-e0b3-45c7-8680-e9b9487e0a3f",
   "metadata": {},
   "outputs": [
    {
     "data": {
      "text/plain": [
       "False    0.568493\n",
       "True     0.431507\n",
       "Name: RAIN, dtype: float64"
      ]
     },
     "execution_count": 10,
     "metadata": {},
     "output_type": "execute_result"
    }
   ],
   "source": [
    "test[\"RAIN\"].value_counts(normalize=True)"
   ]
  },
  {
   "cell_type": "code",
   "execution_count": 11,
   "id": "84ead6ef-138a-4554-8578-9fda3f451d62",
   "metadata": {},
   "outputs": [],
   "source": [
    "# Create Validation Set\n",
    "# Select target column\n",
    "target = \"RAIN\"\n",
    "\n",
    "# Create training and validation sets\n",
    "X_train, X_val, y_train, y_val,= train_test_split(\n",
    "    training.drop([target, \"DATE\"], axis=1), # Df with features\n",
    "    training[target], # Df with labels\n",
    "    train_size=0.8,\n",
    "    test_size=0.2,\n",
    "    random_state=60\n",
    ")"
   ]
  },
  {
   "cell_type": "markdown",
   "id": "f823a496-00b5-4f0f-aa80-7f6144383d89",
   "metadata": {},
   "source": [
    "### Calculate the Precision and Recall for the classification heuristic you made."
   ]
  },
  {
   "cell_type": "code",
   "execution_count": 14,
   "id": "93bbe2a6-b15b-4a08-b26b-da14bf94c409",
   "metadata": {},
   "outputs": [],
   "source": [
    "def heuristic(df):\n",
    "    \"\"\"\n",
    "    Simple heuristic:\n",
    "    \n",
    "    If it rained the past two days then predict rain else predict no rain\n",
    "    \n",
    "    Frist two rows are predicted false be default\n",
    "    \"\"\"\n",
    "    \n",
    "    preds = []\n",
    "    \n",
    "    for x in range(len(df)):\n",
    "\n",
    "        if x<31:\n",
    "            preds.append(False)\n",
    "        else:\n",
    "\n",
    "            if (df.iloc[x-1][\"TMIN\"] <= 30) | (df.iloc[x-7][\"TMIN\"] <= 30):\n",
    "                preds.append(True)\n",
    "            else:\n",
    "                preds.append(False)\n",
    "    return preds\n",
    "    \n",
    "df[\"preds\"] = heuristic(df)\n",
    "\n",
    "FP = np.zeros(len(df))\n",
    "TP = np.zeros(len(df))\n",
    "FN = np.zeros(len(df))\n",
    "TN = np.zeros(len(df))\n",
    "\n",
    "for x in range(len(df)):\n",
    "    if (df[\"TMIN\"].iloc[x] <= 30) & (df[\"preds\"].iloc[x] == True):\n",
    "        TP[x] = 1\n",
    "        \n",
    "    elif (df[\"RAIN\"].iloc[x] > 30) & (df[\"preds\"].iloc[x] == False):\n",
    "        TN[x] = 1\n",
    "        \n",
    "    elif (df[\"RAIN\"].iloc[x] <= 30) & (df[\"preds\"].iloc[x] == False):\n",
    "        FN[x] = 1\n",
    "\n",
    "    else:\n",
    "        FP[x] = 1"
   ]
  },
  {
   "cell_type": "code",
   "execution_count": 15,
   "id": "cd004d47-028c-479f-81f9-5c473e3e4eec",
   "metadata": {},
   "outputs": [
    {
     "data": {
      "text/plain": [
       "0.3866935483870968"
      ]
     },
     "execution_count": 15,
     "metadata": {},
     "output_type": "execute_result"
    }
   ],
   "source": [
    "# Create A Function to Calculate Precision\n",
    "def precision(TP, FP):\n",
    "    return TP.sum()/(TP+FP).sum()\n",
    "precision(TP, FP)"
   ]
  },
  {
   "cell_type": "code",
   "execution_count": 16,
   "id": "2a427ce5-cc77-443c-90d3-0406d8b23136",
   "metadata": {},
   "outputs": [
    {
     "data": {
      "text/plain": [
       "0.03991343072376909"
      ]
     },
     "execution_count": 16,
     "metadata": {},
     "output_type": "execute_result"
    }
   ],
   "source": [
    "# Create A Function to Calculate Recall\n",
    "def recall(TP, FN):\n",
    "    return TP.sum()/(TP+FN).sum()\n",
    "recall(TP, FN)"
   ]
  },
  {
   "cell_type": "code",
   "execution_count": 17,
   "id": "f4c8fc97-05a5-44d2-a27a-92e5475e2c52",
   "metadata": {},
   "outputs": [
    {
     "data": {
      "text/plain": [
       "0.037537184906842026"
      ]
     },
     "execution_count": 17,
     "metadata": {},
     "output_type": "execute_result"
    }
   ],
   "source": [
    "# Create a Function to Calculate Accuracy\n",
    "def accuracy(TP, FP, TN, FN):\n",
    "    return (TP+TN).sum()/(TP+TN+FP+FN).sum()\n",
    "\n",
    "accuracy(TP, FP, TN, FN)"
   ]
  },
  {
   "cell_type": "markdown",
   "id": "0d0ae4f6-2aff-4966-8729-76553fe225fe",
   "metadata": {},
   "source": [
    "### Calculate the MSE, MAE, or SSE for the regression heuristic"
   ]
  },
  {
   "cell_type": "code",
   "execution_count": 18,
   "id": "b309bdb1-01d4-4a0e-bd5e-5d59a9fadedf",
   "metadata": {},
   "outputs": [
    {
     "data": {
      "text/plain": [
       "41.11033586496887"
      ]
     },
     "execution_count": 18,
     "metadata": {},
     "output_type": "execute_result"
    }
   ],
   "source": [
    "# Create a Mean Squared Error Function\n",
    "def mse(y_true, y_pred):\n",
    "    return np.square(y_true - y_pred).mean()\n",
    "mse(y_test_r, y_pred_r)"
   ]
  },
  {
   "cell_type": "code",
   "execution_count": 19,
   "id": "2c5e944d-b1ed-4ec5-9baa-28a9907d29f9",
   "metadata": {},
   "outputs": [
    {
     "data": {
      "text/plain": [
       "41.11033586496887"
      ]
     },
     "execution_count": 19,
     "metadata": {},
     "output_type": "execute_result"
    }
   ],
   "source": [
    "# Your Mean Squared Error function should equal this value\n",
    "mean_squared_error(y_test_r, y_pred_r)"
   ]
  },
  {
   "cell_type": "code",
   "execution_count": 20,
   "id": "19d49a89-5506-4ff9-9eb5-2b0992debbf7",
   "metadata": {},
   "outputs": [
    {
     "data": {
      "text/plain": [
       "4.9236334705691105"
      ]
     },
     "execution_count": 20,
     "metadata": {},
     "output_type": "execute_result"
    }
   ],
   "source": [
    "# Create a Mean Absolute Error Function\n",
    "def mae(y_true, y_pred):\n",
    "    return np.mean(np.abs(y_true - y_pred))\n",
    "mae(y_test_r, y_pred_r)"
   ]
  },
  {
   "cell_type": "code",
   "execution_count": 21,
   "id": "ab7ba003-4c10-45c0-a8dd-0769180719b5",
   "metadata": {},
   "outputs": [
    {
     "data": {
      "text/plain": [
       "4.923633470569111"
      ]
     },
     "execution_count": 21,
     "metadata": {},
     "output_type": "execute_result"
    }
   ],
   "source": [
    "# Your Mean Absolute Error function should equal this value\n",
    "mean_absolute_error(y_test_r, y_pred_r)"
   ]
  },
  {
   "cell_type": "code",
   "execution_count": 22,
   "id": "9d3c8559-8d3e-4333-b801-429be10ab63b",
   "metadata": {},
   "outputs": [
    {
     "data": {
      "text/plain": [
       "2507.730487763101"
      ]
     },
     "execution_count": 22,
     "metadata": {},
     "output_type": "execute_result"
    }
   ],
   "source": [
    "# Create a Sum Squared Error Function\n",
    "def sse(y_true, y_pred):\n",
    "    return np.square(y_true - y_pred).sum()\n",
    "sse(y_test_r, y_pred_r)"
   ]
  },
  {
   "cell_type": "markdown",
   "id": "add81ea6-94af-4ec6-837a-6776da384eef",
   "metadata": {},
   "source": [
    "###  Repeat the process 5 times."
   ]
  },
  {
   "cell_type": "code",
   "execution_count": 23,
   "id": "5feb28b1-41de-47d1-ac46-f514fab5bd23",
   "metadata": {},
   "outputs": [
    {
     "data": {
      "text/plain": [
       "0.925880626223092"
      ]
     },
     "execution_count": 23,
     "metadata": {},
     "output_type": "execute_result"
    }
   ],
   "source": [
    "lr = LogisticRegression()\n",
    "\n",
    "lr.fit(X_train, y_train)\n",
    "\n",
    "lr.predict\n",
    "\n",
    "lr.score(X_val, y_val)"
   ]
  },
  {
   "cell_type": "code",
   "execution_count": 24,
   "id": "afb08765-8b30-4518-bf79-4694e621eaa9",
   "metadata": {},
   "outputs": [
    {
     "name": "stdout",
     "output_type": "stream",
     "text": [
      "              precision    recall  f1-score   support\n",
      "\n",
      "       False       0.89      0.99      0.94      2313\n",
      "        True       0.99      0.84      0.91      1775\n",
      "\n",
      "    accuracy                           0.93      4088\n",
      "   macro avg       0.94      0.92      0.92      4088\n",
      "weighted avg       0.93      0.93      0.92      4088\n",
      "\n"
     ]
    }
   ],
   "source": [
    "# Look at classification report\n",
    "\n",
    "# store predictions\n",
    "preds = lr.predict(X_val)\n",
    "\n",
    "print(classification_report(y_val, preds))"
   ]
  },
  {
   "cell_type": "code",
   "execution_count": 25,
   "id": "c292b391-e144-4744-8e85-fc73b79d4b64",
   "metadata": {},
   "outputs": [
    {
     "data": {
      "text/plain": [
       "0.891633473289182"
      ]
     },
     "execution_count": 25,
     "metadata": {},
     "output_type": "execute_result"
    }
   ],
   "source": [
    "scores = cross_val_score(lr,X_val, y_val, cv=5)\n",
    "\n",
    "scores.mean()"
   ]
  }
 ],
 "metadata": {
  "kernelspec": {
   "display_name": "Python 3",
   "language": "python",
   "name": "python3"
  },
  "language_info": {
   "codemirror_mode": {
    "name": "ipython",
    "version": 3
   },
   "file_extension": ".py",
   "mimetype": "text/x-python",
   "name": "python",
   "nbconvert_exporter": "python",
   "pygments_lexer": "ipython3",
   "version": "3.8.8"
  }
 },
 "nbformat": 4,
 "nbformat_minor": 5
}
