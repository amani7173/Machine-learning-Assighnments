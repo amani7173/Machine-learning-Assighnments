{
 "cells": [
  {
   "cell_type": "code",
   "execution_count": 1,
   "metadata": {
    "id": "0DBsWMnDfWJN"
   },
   "outputs": [],
   "source": [
    "%%capture\n",
    "# STARTER CODE - RUN THIS CELL - DO NOT CHANGE\n",
    "!pip install category_encoders\n",
    "import seaborn as sns\n",
    "import pandas as pd\n",
    "import numpy as np\n",
    "import matplotlib.pyplot as plt\n",
    "import category_encoders as ce\n",
    "from sklearn.linear_model import LinearRegression, LogisticRegression\n",
    "from sklearn.preprocessing import StandardScaler\n",
    "from sklearn.model_selection import train_test_split\n",
    "from sklearn.pipeline import make_pipeline\n",
    "from sklearn.metrics import mean_squared_error, mean_absolute_error, accuracy_score, accuracy_score, recall_score, precision_score\n",
    "df_r = sns.load_dataset(\"tips\").dropna()\n",
    "df_c = sns.load_dataset(\"titanic\").dropna()\n",
    "model_r = LinearRegression()\n",
    "model_c = LogisticRegression()\n",
    "x_train_r, x_test_r, y_train_r, y_test_r = train_test_split(df_r.drop(\"total_bill\", axis=1), df_r[\"total_bill\"])\n",
    "x_train_c, x_test_c, y_train_c, y_test_c = train_test_split(df_c.drop([\"survived\", \"alive\", \"adult_male\"], axis=1), df_c[\"survived\"])\n",
    "pipe_r = make_pipeline(ce.OrdinalEncoder(), StandardScaler(), LinearRegression()).fit(x_train_r, y_train_r)\n",
    "pipe_c = make_pipeline(ce.OrdinalEncoder(), StandardScaler(), LogisticRegression()).fit(x_train_c, y_train_c)\n",
    "y_pred_r = pipe_r.predict(x_test_r)\n",
    "y_pred_c = pipe_c.predict(x_test_c)"
   ]
  },
  {
   "cell_type": "markdown",
   "metadata": {
    "id": "JA6ub2bZemNP"
   },
   "source": [
    "# Cost Functions\n",
    "\n",
    "- Without importing any libraries please write a cost function for each of the following listed below.\n",
    "- Do not refrence ANY online resources other than whats provided\n",
    "\n",
    "You can only use these resources, `pandas` and `numpy` to make your functions:\n",
    "- [Mean Squared Error](https://en.wikipedia.org/wiki/Mean_squared_error)\n",
    "- [Mean Absolute Error](https://en.wikipedia.org/wiki/Mean_absolute_error)\n",
    "- [Root Mean Squared Error](https://en.wikipedia.org/wiki/Root-mean-square_deviation)\n",
    "- [Residual Sum of Squares](https://en.wikipedia.org/wiki/Residual_sum_of_squares)\n",
    "- [Precision, Recall, Accuracy](https://en.wikipedia.org/wiki/Confusion_matrix)\n",
    "- [Scikit-Learn](https://scikit-learn.org/stable/index.html)"
   ]
  },
  {
   "cell_type": "markdown",
   "metadata": {
    "id": "39_TltPpf60I"
   },
   "source": [
    "#### Regression Cost Functions\n",
    "\n",
    "- Use `y_test_r` as your true labels\n",
    "- Use `y_pred_r` as your predicted labels"
   ]
  },
  {
   "cell_type": "code",
   "execution_count": 7,
   "metadata": {
    "id": "LgU4Ke0Cd3gw"
   },
   "outputs": [
    {
     "data": {
      "text/plain": [
       "29.65071782502292"
      ]
     },
     "execution_count": 7,
     "metadata": {},
     "output_type": "execute_result"
    }
   ],
   "source": [
    "# Create a Mean Squared Error Function\n",
    "def mse(y_true, y_pred):\n",
    "    mse1=np.square(np.subtract(y_true,y_pred)).mean()\n",
    "    return mse1\n",
    "\n",
    "mse(y_test_r, y_pred_r)"
   ]
  },
  {
   "cell_type": "code",
   "execution_count": 4,
   "metadata": {
    "id": "Eyp3WVY_tuBz"
   },
   "outputs": [
    {
     "data": {
      "text/plain": [
       "29.65071782502291"
      ]
     },
     "execution_count": 4,
     "metadata": {},
     "output_type": "execute_result"
    }
   ],
   "source": [
    "# Your Mean Squared Error function should equal this value\n",
    "mean_squared_error(y_test_r, y_pred_r)"
   ]
  },
  {
   "cell_type": "code",
   "execution_count": 13,
   "metadata": {
    "id": "n-B-pkxtfAtI"
   },
   "outputs": [
    {
     "data": {
      "text/plain": [
       "4.122776414220549"
      ]
     },
     "execution_count": 13,
     "metadata": {},
     "output_type": "execute_result"
    }
   ],
   "source": [
    "# Create a Mean Absolute Error Function\n",
    "def mae(y_true, y_pred):\n",
    "    return np.mean(np.abs((y_true - y_pred)))\n",
    "mae(y_test_r, y_pred_r)\n"
   ]
  },
  {
   "cell_type": "code",
   "execution_count": 12,
   "metadata": {
    "id": "8ZzkyvrSuCkc"
   },
   "outputs": [
    {
     "data": {
      "text/plain": [
       "4.122776414220551"
      ]
     },
     "execution_count": 12,
     "metadata": {},
     "output_type": "execute_result"
    }
   ],
   "source": [
    "# Your Mean Absolute Error function should equal this value\n",
    "mean_absolute_error(y_test_r, y_pred_r)"
   ]
  },
  {
   "cell_type": "code",
   "execution_count": 24,
   "metadata": {
    "id": "w4nobsDJfk4L"
   },
   "outputs": [
    {
     "data": {
      "text/plain": [
       "5.445247269410538"
      ]
     },
     "execution_count": 24,
     "metadata": {},
     "output_type": "execute_result"
    }
   ],
   "source": [
    "# Create a Root Mean Squared Error Function\n",
    "def rmse(y_true, y_pred):\n",
    "    rsm=np.sqrt(np.square(np.subtract(y_true,y_pred)).mean())\n",
    "    return rsm\n",
    "\n",
    "rmse(y_test_r, y_pred_r)"
   ]
  },
  {
   "cell_type": "code",
   "execution_count": 23,
   "metadata": {
    "id": "WswkpQCruRyb"
   },
   "outputs": [
    {
     "data": {
      "text/plain": [
       "5.445247269410537"
      ]
     },
     "execution_count": 23,
     "metadata": {},
     "output_type": "execute_result"
    }
   ],
   "source": [
    "# Your Root Mean Squared Error function should equal this value\n",
    "mean_squared_error(y_test_r, y_pred_r, squared=False)"
   ]
  },
  {
   "cell_type": "code",
   "execution_count": 25,
   "metadata": {
    "id": "RcuwEx9qd_hq"
   },
   "outputs": [
    {
     "data": {
      "text/plain": [
       "1808.6937873263973"
      ]
     },
     "execution_count": 25,
     "metadata": {},
     "output_type": "execute_result"
    }
   ],
   "source": [
    "# Create a Sum of Squared Error Function\n",
    "def rss(y_true, y_pred):\n",
    "    return ((y_true - y_pred)**2).sum()\n",
    "rss(y_test_r, y_pred_r)"
   ]
  },
  {
   "cell_type": "markdown",
   "metadata": {
    "id": "fYpJ2jdYf-Et"
   },
   "source": [
    "#### Classification Cost Functions\n",
    "\n",
    "- Use `y_test_c` as your true labels\n",
    "- Use `y_pred_c` as your predicted labels"
   ]
  },
  {
   "cell_type": "code",
   "execution_count": 27,
   "metadata": {
    "id": "aipG_B_7h3yI"
   },
   "outputs": [
    {
     "name": "stdout",
     "output_type": "stream",
     "text": [
      "True Positives: [1. 0. 1. 1. 0. 0. 0. 1. 1. 0. 0. 0. 1. 1. 1. 0. 0. 0. 0. 0. 1. 1. 1. 1.\n",
      " 1. 0. 1. 1. 1. 1. 0. 1. 1. 0. 0. 1. 1. 1. 1. 0. 0. 1. 0. 0. 1. 0.]\n",
      "True Negatives: [0. 1. 0. 0. 0. 0. 1. 0. 0. 0. 1. 1. 0. 0. 0. 1. 1. 0. 0. 1. 0. 0. 0. 0.\n",
      " 0. 0. 0. 0. 0. 0. 1. 0. 0. 1. 1. 0. 0. 0. 0. 0. 1. 0. 0. 0. 0. 0.]\n",
      "False Positives: [0. 0. 0. 0. 0. 1. 0. 0. 0. 1. 0. 0. 0. 0. 0. 0. 0. 0. 1. 0. 0. 0. 0. 0.\n",
      " 0. 1. 0. 0. 0. 0. 0. 0. 0. 0. 0. 0. 0. 0. 0. 0. 0. 0. 1. 1. 0. 1.]\n",
      "False Negatives: [0. 0. 0. 0. 1. 0. 0. 0. 0. 0. 0. 0. 0. 0. 0. 0. 0. 1. 0. 0. 0. 0. 0. 0.\n",
      " 0. 0. 0. 0. 0. 0. 0. 0. 0. 0. 0. 0. 0. 0. 0. 1. 0. 0. 0. 0. 0. 0.]\n"
     ]
    }
   ],
   "source": [
    "# Replace None with the correct value\n",
    "true_positive = np.zeros(len(y_pred_c))\n",
    "true_negative = np.zeros(len(y_pred_c))\n",
    "false_positive = np.zeros(len(y_pred_c))\n",
    "false_negative = np.zeros(len(y_pred_c))\n",
    "\n",
    "\n",
    "# Write a loop to identify true positives, false negatives, false positives, and true negatives\n",
    "for x in range(len(y_test_c)):\n",
    "    if y_test_c.iloc[x] == y_pred_c[x]:\n",
    "        if y_pred_c[x] == 1:\n",
    "            true_positive[x] =1 # add 1 to the true_positive, true_negative, false_positive or false_negative count (do this for each pass, each of the 4 should be represented once)\n",
    "        if y_pred_c[x] == 0:\n",
    "            true_negative[x]=1\n",
    "    if y_test_c.iloc[x] != y_pred_c[x]:\n",
    "        if y_pred_c[x] == 1:\n",
    "            false_positive[x]=1\n",
    "        if y_pred_c[x] == 0:\n",
    "            false_negative[x]=1\n",
    "\n",
    "# Uncomment below when your loop works to see totals of each\n",
    "print(f\"True Positives: {true_positive}\\nTrue Negatives: {true_negative}\\nFalse Positives: {false_positive}\\nFalse Negatives: {false_negative}\")"
   ]
  },
  {
   "cell_type": "code",
   "execution_count": 39,
   "metadata": {
    "id": "Q3Ctlw2heCig"
   },
   "outputs": [
    {
     "data": {
      "text/plain": [
       "0.78125"
      ]
     },
     "execution_count": 39,
     "metadata": {},
     "output_type": "execute_result"
    }
   ],
   "source": [
    "# Create A Function to Calculate Precision\n",
    "def precision(TP, FP):\n",
    "    return TP.sum()/(TP+FP).sum()\n",
    "\n",
    "precision(true_positive, false_positive)"
   ]
  },
  {
   "cell_type": "code",
   "execution_count": 37,
   "metadata": {
    "id": "UpzJxKZJqz9S"
   },
   "outputs": [
    {
     "data": {
      "text/plain": [
       "0.78125"
      ]
     },
     "execution_count": 37,
     "metadata": {},
     "output_type": "execute_result"
    }
   ],
   "source": [
    "# Your precision function should equal this value\n",
    "precision_score(y_test_c, y_pred_c)"
   ]
  },
  {
   "cell_type": "code",
   "execution_count": 40,
   "metadata": {
    "id": "rAX5khvCedHC"
   },
   "outputs": [
    {
     "data": {
      "text/plain": [
       "0.8928571428571429"
      ]
     },
     "execution_count": 40,
     "metadata": {},
     "output_type": "execute_result"
    }
   ],
   "source": [
    "# Create A Function to Calculate Recall\n",
    "def recall(TP, FN):\n",
    "    return TP.sum()/(TP+FN).sum()\n",
    "\n",
    "recall(true_positive, false_negative)"
   ]
  },
  {
   "cell_type": "code",
   "execution_count": 41,
   "metadata": {
    "id": "sPin2Q9Zqk-X"
   },
   "outputs": [
    {
     "data": {
      "text/plain": [
       "0.8928571428571429"
      ]
     },
     "execution_count": 41,
     "metadata": {},
     "output_type": "execute_result"
    }
   ],
   "source": [
    "# Your recall function should equal this value\n",
    "recall_score(y_test_c, y_pred_c)"
   ]
  },
  {
   "cell_type": "code",
   "execution_count": 42,
   "metadata": {
    "id": "RQ8YleBTegvn"
   },
   "outputs": [
    {
     "data": {
      "text/plain": [
       "0.782608695652174"
      ]
     },
     "execution_count": 42,
     "metadata": {},
     "output_type": "execute_result"
    }
   ],
   "source": [
    "# Create a Function to Calculate Accuracy\n",
    "def accuracy(TP, FP, TN, FN):\n",
    "    return (TP+TN).sum()/(TP+TN+FP+FN).sum()\n",
    "\n",
    "accuracy(true_positive, false_positive, true_negative, false_negative)"
   ]
  },
  {
   "cell_type": "code",
   "execution_count": 43,
   "metadata": {
    "id": "tzNMG0PmqSkn"
   },
   "outputs": [
    {
     "data": {
      "text/plain": [
       "0.782608695652174"
      ]
     },
     "execution_count": 43,
     "metadata": {},
     "output_type": "execute_result"
    }
   ],
   "source": [
    "# Your accuracy score function should equal this value\n",
    "accuracy_score(y_test_c, y_pred_c)"
   ]
  },
  {
   "cell_type": "markdown",
   "metadata": {},
   "source": [
    "## Determine the Precision, Recall, and Accuracy from yesterday's model and compare your results with the Scikit-Learn Functions."
   ]
  },
  {
   "cell_type": "code",
   "execution_count": 59,
   "metadata": {},
   "outputs": [],
   "source": [
    "# Load Data\n",
    "df = pd.read_csv('seattle_weather_1948-2017.csv')\n",
    "\n",
    "def heuristic(df):\n",
    "    \"\"\"\n",
    "    Simple heuristic:\n",
    "    \n",
    "    If it rained the past two days then predict rain else predict no rain\n",
    "    \n",
    "    Frist two rows are predicted false be default\n",
    "    \"\"\"\n",
    "    \n",
    "    preds = []\n",
    "    \n",
    "    for x in range(len(df)):\n",
    "        # If first two rows then predict false\n",
    "        if x<2:\n",
    "            preds.append(False)\n",
    "        else:\n",
    "            # If either of last two days == True then predict True\n",
    "            if (df.iloc[x-1][\"RAIN\"] == True) | (df.iloc[x-7][\"RAIN\"] == True):\n",
    "                preds.append(True)\n",
    "            else:\n",
    "                preds.append(False)\n",
    "    return preds\n",
    "df[\"preds\"] = heuristic(df)\n",
    "\n",
    "\n",
    "FP = np.zeros(len(df))\n",
    "TP = np.zeros(len(df))\n",
    "FN = np.zeros(len(df))\n",
    "TN = np.zeros(len(df))\n",
    "    \n",
    "for x in range(len(df)):\n",
    "    if (df[\"RAIN\"].iloc[x] == True) & (df[\"preds\"].iloc[x] == True):\n",
    "        TP[x] = 1\n",
    "            # True Negative\n",
    "    elif (df[\"RAIN\"].iloc[x] == False) & (df[\"preds\"].iloc[x] == False):\n",
    "        TN[x] = 1\n",
    "            # False Negative\n",
    "    elif (df[\"RAIN\"].iloc[x] == True) & (df[\"preds\"].iloc[x] == False):\n",
    "        FN[x] = 1\n",
    "            # False Positive\n",
    "    else:\n",
    "        FP[x] = 1\n",
    "\n",
    "        #return FP, TP, FN, TN\n",
    "w,x,y,z = calc_confuse(df)\n",
    "\n",
    "df[\"FP\"] = w\n",
    "df[\"TP\"] = x\n",
    "df[\"FN\"] = y\n",
    "df[\"TN\"] = z\n"
   ]
  },
  {
   "cell_type": "code",
   "execution_count": 61,
   "metadata": {},
   "outputs": [
    {
     "data": {
      "text/plain": [
       "0.5402910247004158"
      ]
     },
     "execution_count": 61,
     "metadata": {},
     "output_type": "execute_result"
    }
   ],
   "source": [
    "# Create A Function to Calculate Precision\n",
    "def precision(TP, FP):\n",
    "    return TP.sum()/(TP+FP).sum()\n",
    "\n",
    "precision(TP, FP)"
   ]
  },
  {
   "cell_type": "code",
   "execution_count": 63,
   "metadata": {},
   "outputs": [
    {
     "data": {
      "text/plain": [
       "0.8107339449541284"
      ]
     },
     "execution_count": 63,
     "metadata": {},
     "output_type": "execute_result"
    }
   ],
   "source": [
    "# Create A Function to Calculate Recall\n",
    "def recall(TP, FN):\n",
    "    return TP.sum()/(TP+FN).sum()\n",
    "\n",
    "recall(TP, FN)"
   ]
  },
  {
   "cell_type": "code",
   "execution_count": 64,
   "metadata": {},
   "outputs": [
    {
     "data": {
      "text/plain": [
       "0.6249853234707057"
      ]
     },
     "execution_count": 64,
     "metadata": {},
     "output_type": "execute_result"
    }
   ],
   "source": [
    "# Create a Function to Calculate Accuracy\n",
    "def accuracy(TP, FP, TN, FN):\n",
    "    return (TP+TN).sum()/(TP+TN+FP+FN).sum()\n",
    "\n",
    "accuracy(TP, FP, TN, FN)"
   ]
  },
  {
   "cell_type": "code",
   "execution_count": null,
   "metadata": {},
   "outputs": [],
   "source": []
  }
 ],
 "metadata": {
  "colab": {
   "collapsed_sections": [],
   "name": "02_assignment_cost.ipynb",
   "provenance": []
  },
  "kernelspec": {
   "display_name": "Python 3",
   "language": "python",
   "name": "python3"
  },
  "language_info": {
   "codemirror_mode": {
    "name": "ipython",
    "version": 3
   },
   "file_extension": ".py",
   "mimetype": "text/x-python",
   "name": "python",
   "nbconvert_exporter": "python",
   "pygments_lexer": "ipython3",
   "version": "3.8.8"
  }
 },
 "nbformat": 4,
 "nbformat_minor": 4
}
